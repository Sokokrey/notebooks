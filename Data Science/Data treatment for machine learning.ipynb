{
 "cells": [
  {
   "cell_type": "markdown",
   "id": "9ffac6e5",
   "metadata": {},
   "source": [
    "## Librerias útiles"
   ]
  },
  {
   "cell_type": "code",
   "execution_count": 10,
   "id": "541120e6",
   "metadata": {},
   "outputs": [],
   "source": [
    "# Data analysis and wrangling\n",
    "import pandas as pd\n",
    "import numpy as np\n",
    "import random as rnd\n",
    "\n",
    "import warnings\n",
    "warnings.filterwarnings('ignore') # To hide all python warnings\n",
    "\n",
    "# Visualization\n",
    "import seaborn as sb\n",
    "import matplotlib.pyplot as plt\n",
    "%matplotlib inline\n",
    "\n",
    "# Machine learning\n",
    "from sklearn.linear_model import LogisticRegression\n",
    "from sklearn.svm import SVC, LinearSVC\n",
    "from sklearn.ensemble import RandomForestClassifier\n",
    "from sklearn.neighbors import KNeighborsClassifier\n",
    "from sklearn.naive_bayes import GaussianNB\n",
    "from sklearn.linear_model import Perceptron\n",
    "from sklearn.linear_model import SGDClassifier\n",
    "from sklearn.tree import DecisionTreeClassifier\n",
    "\n",
    "from scipy import stats # This module contains a large number of probability distribution\n",
    "from scipy.stats import norm # To analize normal distribution\n",
    "from sklearn.preprocessing import StandardScaler # Transform data such that its distribution will have a mean value 0 and sd of 1\n",
    "\n",
    "from IPython.display import clear_output\n",
    "#!pip3 install -U keras\n",
    "#!pip3 install -U tensorflow\n",
    "#clear_output()\n",
    "\n",
    "# Neural networks\n",
    "# from keras.utils.np_utils import to_categorical\n",
    "# from keras.models import Sequential\n",
    "# from keras.layers import Dense, Dropout, Flatten, Conv2D, MaxPool2D\n",
    "# from tensorflow.keras.optimizers import RMSprop\n",
    "# from keras.preprocessing.image import ImageDataGenerator\n",
    "# from keras.callbacks import ReduceLROnPlateau\n",
    "\n",
    "# Cool\n",
    "from sklearn.impute import SimpleImputer\n",
    "from sklearn.metrics import accuracy_score\n",
    "from sklearn.preprocessing import LabelEncoder\n",
    "from sklearn.model_selection import StratifiedKFold, train_test_split\n",
    "\n",
    "# Lazy classifier\n",
    "from lightgbm import LGBMClassifier\n",
    "import lazypredict\n",
    "from lazypredict.Supervised import LazyClassifier\n",
    "\n",
    "\n",
    "from matplotlib.axes._axes import _log as matplotlib_axes_logger\n",
    "matplotlib_axes_logger.setLevel('ERROR')\n",
    "plt.rcParams.update({'figure.figsize':(10,8), 'figure.dpi':100}) # Setup of plt chars"
   ]
  },
  {
   "cell_type": "markdown",
   "id": "0ac921c0",
   "metadata": {},
   "source": [
    "## 1) Adquisición de los datos"
   ]
  },
  {
   "cell_type": "code",
   "execution_count": null,
   "id": "f3f06a10",
   "metadata": {},
   "outputs": [],
   "source": [
    "df_train = pd.read_csv('train.csv')\n",
    "df_test = pd.read_csv('test.csv')\n",
    "submission = pd.read_csv('sample_submission.csv')\n",
    "\n",
    "combine = [df_train, df_test] # To run certain operations on both datasets together\n"
   ]
  },
  {
   "cell_type": "markdown",
   "id": "1363db77",
   "metadata": {},
   "source": [
    "## 2) Entender el problema"
   ]
  },
  {
   "cell_type": "markdown",
   "id": "06a159c3",
   "metadata": {},
   "source": [
    "### 👉 Análisis describiendo los datos"
   ]
  },
  {
   "cell_type": "markdown",
   "id": "48c6ca8f",
   "metadata": {},
   "source": [
    "####  📌 Características disponibles en el dataset (columnas)"
   ]
  },
  {
   "cell_type": "code",
   "execution_count": null,
   "id": "27ff93a1",
   "metadata": {},
   "outputs": [],
   "source": [
    "df_train.columns"
   ]
  },
  {
   "cell_type": "markdown",
   "id": "8e3aeb82",
   "metadata": {},
   "source": [
    "##### 🔹 ¿Cuáles son? Categóricas, ordinales, continuas o mixtas 🤔"
   ]
  },
  {
   "cell_type": "code",
   "execution_count": null,
   "id": "2afcb1f1",
   "metadata": {},
   "outputs": [],
   "source": [
    "df_train.info()"
   ]
  },
  {
   "cell_type": "markdown",
   "id": "4deaec97",
   "metadata": {},
   "source": [
    "##### 🔹 ¿Cuáles podrían tener errores o errores tipográficos?  🤔"
   ]
  },
  {
   "cell_type": "markdown",
   "id": "1f660c6f",
   "metadata": {},
   "source": [
    "##### 🔹 ¿Cuáles podrían tener valores en blanco, nulos o vaciós? 🤔"
   ]
  },
  {
   "cell_type": "code",
   "execution_count": null,
   "id": "f41ebc70",
   "metadata": {},
   "outputs": [],
   "source": [
    "df_train.isnull().any().describe()"
   ]
  },
  {
   "cell_type": "markdown",
   "id": "d002023f",
   "metadata": {},
   "source": [
    "##### 🔹 ¿Qué tipo de dato (string, integer, float, etc..) presentan las variable?"
   ]
  },
  {
   "cell_type": "code",
   "execution_count": null,
   "id": "0288d8c0",
   "metadata": {},
   "outputs": [],
   "source": [
    "df_train.info()"
   ]
  },
  {
   "cell_type": "markdown",
   "id": "02341a14",
   "metadata": {},
   "source": [
    "##### 🔹 ¿Cuál es la distribución de los valores numéricos de las características de la muestra?"
   ]
  },
  {
   "cell_type": "code",
   "execution_count": null,
   "id": "89b576a8",
   "metadata": {},
   "outputs": [],
   "source": [
    "# Global\n",
    "df_train.describe()\n",
    "\n",
    "# Specific\n",
    "df_train['Var'].describe()"
   ]
  },
  {
   "cell_type": "markdown",
   "id": "80907260",
   "metadata": {},
   "source": [
    "##### 🔹 ¿Y la distribución para las variables categóricas?"
   ]
  },
  {
   "cell_type": "code",
   "execution_count": null,
   "id": "7798c855",
   "metadata": {},
   "outputs": [],
   "source": [
    "df_train.describe(include=['O'])"
   ]
  },
  {
   "cell_type": "markdown",
   "id": "26875b56",
   "metadata": {},
   "source": [
    "##### 🔹 ¿Distribución de las categorías de cada variable categórica en función de la variable dependiente? "
   ]
  },
  {
   "cell_type": "code",
   "execution_count": null,
   "id": "c7d7103d",
   "metadata": {},
   "outputs": [],
   "source": [
    "df_train[['VarCategórica', 'VarDependiente']].groupby(['VarCategorica'], as_index=False).mean().sort_values(by='VarDependiente', ascending=False)"
   ]
  },
  {
   "cell_type": "markdown",
   "id": "41a5599a",
   "metadata": {},
   "source": [
    "### 👉 Análisis visualizando los datos"
   ]
  },
  {
   "cell_type": "markdown",
   "id": "037fc270",
   "metadata": {},
   "source": [
    "##### 🔹 Histograma de una variable numérica con la variable dependiente de clasificacion"
   ]
  },
  {
   "cell_type": "code",
   "execution_count": null,
   "id": "1333f6ea",
   "metadata": {},
   "outputs": [],
   "source": [
    "grid = sb.FacetGrid(df_train, col='Y')\n",
    "grid.map(plt.hist, 'X', bins=20)"
   ]
  },
  {
   "cell_type": "markdown",
   "id": "45031b65",
   "metadata": {},
   "source": [
    "##### 🔹 Histograma de una variable numérica con la variable dependiente de clasificacion pero clasificado por las clases de otra variable"
   ]
  },
  {
   "cell_type": "code",
   "execution_count": null,
   "id": "65d641e3",
   "metadata": {},
   "outputs": [],
   "source": [
    "grid = sb.FacetGrid(df_train, col='Y', row='X2', height=2.2, aspect=1.6)\n",
    "grid.map(plt.hist, 'X', alpha=.5, bins=20)\n",
    "grid.add_legend();"
   ]
  },
  {
   "cell_type": "markdown",
   "id": "6c9ce996",
   "metadata": {},
   "source": [
    "##### 🔹 Gráfico de puntos entre una variable de clasificación y otra ordinal clasificadas segun las clases de otra variable"
   ]
  },
  {
   "cell_type": "code",
   "execution_count": null,
   "id": "4d18b23e",
   "metadata": {},
   "outputs": [],
   "source": [
    "# grid = sns.FacetGrid(df_train, col='Embarked')\n",
    "grid = sb.FacetGrid(df_train, row='Embarked', height=2.2, aspect=1.6)\n",
    "grid.map(sb.pointplot, 'Pclass', 'Survived', 'Sex', palette='deep', order=[1,2,3], hue_order=[\"female\",\"male\"])\n",
    "grid.add_legend()"
   ]
  },
  {
   "cell_type": "markdown",
   "id": "ecd64f5f",
   "metadata": {},
   "source": [
    "##### 🔹 Gráfico de barras entre una variable numerica y otra binaria pero clasificadas por las combinaciones que resulten entre dos variables categoricas"
   ]
  },
  {
   "cell_type": "code",
   "execution_count": null,
   "id": "043081a5",
   "metadata": {},
   "outputs": [],
   "source": [
    "# grid = sb.FacetGrid(df_train, col='Embarked', hue='Survived', palette={0: 'k', 1: 'w'})\n",
    "grid = sb.FacetGrid(df_train, row='X', col='Y', height=2.2, aspect=1.6)\n",
    "grid.map(sb.barplot, 'X2', 'X3', alpha=.5, ci=None, order=[\"X2-Class1\",\"X2-Class2\"])\n",
    "grid.add_legend()"
   ]
  },
  {
   "cell_type": "markdown",
   "id": "43f32668",
   "metadata": {},
   "source": [
    "##### 🔹 Boxplot entre una variable categorica y una variable dependiente numerica"
   ]
  },
  {
   "cell_type": "code",
   "execution_count": null,
   "id": "d25814d0",
   "metadata": {},
   "outputs": [],
   "source": [
    "sb.boxplot(x = df_train.Y,\n",
    "           y = df_train.X)"
   ]
  },
  {
   "cell_type": "markdown",
   "id": "116f480f",
   "metadata": {},
   "source": [
    "##### 🔹 Histogram to check distribution of a numerical variable "
   ]
  },
  {
   "cell_type": "code",
   "execution_count": null,
   "id": "f171367d",
   "metadata": {},
   "outputs": [],
   "source": [
    "sb.distplot(df_train['Var'])\n",
    "\n",
    "# If you want to check skewness and kurtosis\n",
    "print(\"Skewness: %f\" % df_train['Var'].skew())\n",
    "print(\"Kurtosis: %f\" % df_train['Var'].kurt())"
   ]
  },
  {
   "cell_type": "markdown",
   "id": "9c76d5ee",
   "metadata": {},
   "source": [
    "##### 🔹 Plot scatter to check relationship with numerical vairables"
   ]
  },
  {
   "cell_type": "code",
   "execution_count": null,
   "id": "b16f80e7",
   "metadata": {},
   "outputs": [],
   "source": [
    "var = 'X'\n",
    "data = pd.concat([df_train['Y'], df_train[var]], axis=1)\n",
    "data.plot.scatter(x=var, y='Y', ylim=(0,800000));"
   ]
  },
  {
   "cell_type": "markdown",
   "id": "7e8c6b8a",
   "metadata": {},
   "source": [
    "##### 🔹 Una distribución de valores nulos a lo largo?"
   ]
  },
  {
   "cell_type": "code",
   "execution_count": null,
   "id": "6a6442e2",
   "metadata": {},
   "outputs": [],
   "source": [
    "train_null = pd.DataFrame(train.isna().sum())\n",
    "train_null = train_null.sort_values(by = 0, ascending = False)[:-1]\n",
    "\n",
    "fig = make_subplots(rows = 1,\n",
    "                    cols = 1,\n",
    "                    column_titles = [\"Train Data\"],\n",
    "                    x_title = \"Missing Values\")\n",
    "\n",
    "fig.add_trace(go.Bar(x = train_null[0],\n",
    "                     y = train_null.index,\n",
    "                     orientation = \"h\",\n",
    "                     marker=dict(color=[n for n in range(12)],\n",
    "                                 line_color='rgb(0,0,0,0)',\n",
    "                                 line_width = 2,\n",
    "                                 coloraxis=\"coloraxis\")),\n",
    "              1,1)"
   ]
  },
  {
   "cell_type": "markdown",
   "id": "d90761a0",
   "metadata": {},
   "source": [
    "##### 🔹Grafico de cortas?? No problem!!"
   ]
  },
  {
   "cell_type": "code",
   "execution_count": null,
   "id": "c7b71c40",
   "metadata": {},
   "outputs": [],
   "source": [
    "f = pd.concat([train[FEATURES], test[FEATURES]], axis = 0)\n",
    "\n",
    "text_features = [\"Cabin\", \"Name\"]\n",
    "\n",
    "# categorical features\n",
    "cat_features = [col for col in FEATURES if df[col].nunique() < 25 and col not in text_features]\n",
    "# nunique() -> Count number of distinct elements in specified axis.\n",
    "\n",
    "# continuos features\n",
    "cont_features = [col for col in FEATURES if df[col].nunique() >= 25 and col not in text_features]\n",
    "\n",
    "labels=['Categorical', 'Continuos', 'Text']\n",
    "values=[len(cat_features), len(cont_features), len(text_features)]\n",
    "colors=['#DE3163', '#58D68D']\n",
    "\n",
    "fig = go.Figure(data=[go.Pie(\n",
    "        labels=labels,\n",
    "        values=values,\n",
    "        pull=[0.1, 0],\n",
    "        marker= dict(colors=colors,\n",
    "                     line=dict(color='#999000',\n",
    "                              width=2)))])\n",
    "\n",
    "fig.show()"
   ]
  },
  {
   "cell_type": "markdown",
   "id": "f1c5d482",
   "metadata": {},
   "source": [
    "##### Y éste? ES MUY BUENO! Histograma en conjunto de dos variables continuas"
   ]
  },
  {
   "cell_type": "code",
   "execution_count": null,
   "id": "0329398e",
   "metadata": {},
   "outputs": [],
   "source": [
    "#  Feature Distribution of Continous Features\n",
    "\n",
    "# Age distribution\n",
    "\n",
    "train_age = train.copy()\n",
    "test_age = test.copy()\n",
    "\n",
    "train_age[\"type\"] = \"Train\"\n",
    "test_age[\"type\"] = \"Test\"\n",
    "\n",
    "ageDf = pd.concat([train_age, test_age])\n",
    "fig = px.histogram(data_frame = ageDf,\n",
    "                   x = 'Age',\n",
    "                   color = \"type\",\n",
    "                   color_discrete_sequence= ['#58D68D', '#DE3163'],\n",
    "                   marginal=\"box\",\n",
    "                   nbins=100,\n",
    "                   template=\"plotly_white\"\n",
    "                  )\n",
    "\n",
    "fig.update_layout(title = \"Distribution of Age\", title_x = 0.5)\n",
    "fig.show()"
   ]
  },
  {
   "cell_type": "markdown",
   "id": "fc0cac88",
   "metadata": {},
   "source": [
    "##### Gráfico de tortas? No problem! "
   ]
  },
  {
   "cell_type": "code",
   "execution_count": null,
   "id": "8c09b073",
   "metadata": {},
   "outputs": [],
   "source": [
    "f = pd.concat([train[FEATURES], test[FEATURES]], axis = 0)\n",
    "\n",
    "text_features = [\"Cabin\", \"Name\"]\n",
    "\n",
    "# categorical features\n",
    "cat_features = [col for col in FEATURES if df[col].nunique() < 25 and col not in text_features]\n",
    "# nunique() -> Count number of distinct elements in specified axis.\n",
    "\n",
    "# continuos features\n",
    "cont_features = [col for col in FEATURES if df[col].nunique() >= 25 and col not in text_features]\n",
    "\n",
    "labels=['Categorical', 'Continuos', 'Text']\n",
    "values=[len(cat_features), len(cont_features), len(text_features)]\n",
    "colors=['#DE3163', '#58D68D']\n",
    "\n",
    "fig = go.Figure(data=[go.Pie(\n",
    "        labels=labels,\n",
    "        values=values,\n",
    "        pull=[0.1, 0],\n",
    "        marker= dict(colors=colors,\n",
    "                     line=dict(color='#999000',\n",
    "                              width=2)))])\n",
    "\n",
    "fig.show()"
   ]
  },
  {
   "cell_type": "code",
   "execution_count": null,
   "id": "12573765",
   "metadata": {},
   "outputs": [],
   "source": [
    "# Relationship with categorical features\n",
    "var = 'X'\n",
    "data = pd.concat([df_train['Y'], df_train[var]], axis=1)\n",
    "f, ax = plt.subplots(figsize=(8,6))\n",
    "fig = sb.boxplot(x=var, y='Y', data=data)\n",
    "fig.axis(ymin=0, ymax=800000)"
   ]
  },
  {
   "cell_type": "markdown",
   "id": "29ca4b99",
   "metadata": {},
   "source": [
    "##### Count plot"
   ]
  },
  {
   "cell_type": "code",
   "execution_count": null,
   "id": "f2f73c39",
   "metadata": {},
   "outputs": [],
   "source": [
    "g = sb.countplot(x = df_train)\n",
    "df_train.value_counts()"
   ]
  },
  {
   "cell_type": "markdown",
   "id": "2e1d395c",
   "metadata": {},
   "source": [
    "### 👉 Discusión de los datos"
   ]
  },
  {
   "cell_type": "markdown",
   "id": "c17c2dbf",
   "metadata": {},
   "source": [
    "####  📌 Visualizaciones chulas"
   ]
  },
  {
   "cell_type": "markdown",
   "id": "1350031c",
   "metadata": {},
   "source": [
    "##### 🔹 Imprimir cosas con colores?"
   ]
  },
  {
   "cell_type": "code",
   "execution_count": null,
   "id": "242f004b",
   "metadata": {},
   "outputs": [],
   "source": [
    "# Quick view of train data\n",
    "\n",
    "print(f'\\033[94mNummber of rows in train data: {train.shape[0]}')\n",
    "print(f'\\033[95mNummber of columns in train data: {train.shape[1]}')\n",
    "print(f'\\033[96mNummber of values in train data: {train.count().sum()}')\n",
    "print(f'\\033[97mNummber of missing values in train data: { sum(train.isna().sum()) }')"
   ]
  },
  {
   "cell_type": "markdown",
   "id": "7b94adbb",
   "metadata": {},
   "source": [
    "##### 🔹  Imprimir los valores nulos en un color especial? "
   ]
  },
  {
   "cell_type": "code",
   "execution_count": null,
   "id": "89012868",
   "metadata": {},
   "outputs": [],
   "source": [
    "print(f'\\033[94m')\n",
    "print(train.isnull().sum().sort_values(ascending=False))"
   ]
  },
  {
   "cell_type": "markdown",
   "id": "b6e80439",
   "metadata": {},
   "source": [
    "##### 🔹  Una tabla con valores coloridos?"
   ]
  },
  {
   "cell_type": "code",
   "execution_count": null,
   "id": "24ccab9b",
   "metadata": {},
   "outputs": [],
   "source": [
    "train.iloc[:, :-1].describe().T.sort_values(by='std', ascending=False)\\\n",
    "                    .style.background_gradient(cmap='GnBu')\\\n",
    "                    .bar(subset=[\"max\"], color='#BB0000')\\\n",
    "                    .bar(subset=[\"mean\",], color='green')"
   ]
  },
  {
   "cell_type": "markdown",
   "id": "7fabb0a7",
   "metadata": {},
   "source": [
    "####  📌 Drops, transformaciones, nuevas variables, etc..."
   ]
  },
  {
   "cell_type": "markdown",
   "id": "e2f3fad5",
   "metadata": {},
   "source": [
    "##### 🔹 Quitar alguna variable del dataset que no vaya a ocupar?"
   ]
  },
  {
   "cell_type": "code",
   "execution_count": null,
   "id": "9a44d476",
   "metadata": {},
   "outputs": [],
   "source": [
    "df_train = df_train.drop([\"X1\",\"X2\"], axis=1)"
   ]
  },
  {
   "cell_type": "markdown",
   "id": "d1af3ed1",
   "metadata": {},
   "source": [
    "##### 🔹 Remplazar algunos titulos de alguna variable?"
   ]
  },
  {
   "cell_type": "code",
   "execution_count": null,
   "id": "9d4c70ff",
   "metadata": {},
   "outputs": [],
   "source": [
    "dataset['A'] = dataset['A'].replace('B', 'C')\n",
    "\n",
    "# Si es para una combinacion\n",
    "for dataset in combine:\n",
    "    dataset['A'] = dataset['A'].replace('B', 'C')"
   ]
  },
  {
   "cell_type": "markdown",
   "id": "2e58a142",
   "metadata": {},
   "source": [
    "##### 🔹Convertir una categorica a una ordinal?"
   ]
  },
  {
   "cell_type": "code",
   "execution_count": null,
   "id": "daff8dee",
   "metadata": {},
   "outputs": [],
   "source": [
    "title_mapping = { \"Mr\" : 1, \"Miss\" : 3, \"Master\" : 4, \"Rare\" : 5 }\n",
    "for dataset in combine:\n",
    "    dataset[\"Title\"] = dataset[\"Title\"].map(title_mapping)\n",
    "    dataset[\"Title\"] = dataset[\"Title\"].fillna(0)\n",
    "    "
   ]
  },
  {
   "cell_type": "markdown",
   "id": "fc26a9fc",
   "metadata": {},
   "source": [
    "##### 🔹 Parsear variables categoricas a enteros?"
   ]
  },
  {
   "cell_type": "code",
   "execution_count": null,
   "id": "b163b89a",
   "metadata": {},
   "outputs": [],
   "source": [
    "dataset['Sex'] = dataset[\"Sex\"].map( { 'female' : 1, 'male' : 0 } ).astype(int)    "
   ]
  },
  {
   "cell_type": "markdown",
   "id": "ab89f646",
   "metadata": {},
   "source": [
    "##### 🔹 Crear una nueva variable con bandas o rangos basada en una variable numerica?"
   ]
  },
  {
   "cell_type": "code",
   "execution_count": null,
   "id": "484a1e6b",
   "metadata": {},
   "outputs": [],
   "source": [
    "df_train['AgeBand'] = pd.cut(df_train['Age'], 5) # To classify ages within one of 5 bins/bands"
   ]
  },
  {
   "cell_type": "markdown",
   "id": "f5bd5ad6",
   "metadata": {},
   "source": [
    "##### 🔹 Quieres rellenar valores vacíos con la coincidencia mas comun?"
   ]
  },
  {
   "cell_type": "code",
   "execution_count": null,
   "id": "c3c883b8",
   "metadata": {},
   "outputs": [],
   "source": [
    "freq_port = df_train.Embarked.dropna().mode()[0] # mode() the most current value in Embarked\n",
    "freq_port\n",
    "\n",
    "dataset['Embarked'] = dataset['Embarked'].fillna(freq_port)"
   ]
  },
  {
   "cell_type": "markdown",
   "id": "f0811626",
   "metadata": {},
   "source": [
    "##### 🔹 Convertir variable categorica en numerica?"
   ]
  },
  {
   "cell_type": "code",
   "execution_count": null,
   "id": "740b950f",
   "metadata": {},
   "outputs": [],
   "source": [
    "dataset['Embarked'] = dataset['Embarked'].map({ 'S':0, 'C':1, 'Q':2 }).astype(int)"
   ]
  },
  {
   "cell_type": "markdown",
   "id": "4b81f738",
   "metadata": {},
   "source": [
    "##### 🔹 Rellenar valores nulos de una variable numerica con su media o mediana?"
   ]
  },
  {
   "cell_type": "code",
   "execution_count": null,
   "id": "2626ff2c",
   "metadata": {},
   "outputs": [],
   "source": [
    "df_test['Fare'].fillna(df_test['Fare'].dropna().median(), inplace=True)"
   ]
  },
  {
   "cell_type": "markdown",
   "id": "cc89f253",
   "metadata": {},
   "source": [
    "##### 🔹 Visualizemos los outliers?"
   ]
  },
  {
   "cell_type": "code",
   "execution_count": null,
   "id": "fc578654",
   "metadata": {},
   "outputs": [],
   "source": [
    "# Standardizing data\n",
    "saleprice_scaled = StandardScaler().fit_transform(df_train['SalePrice'][:, np.newaxis]) # Converting data values to have mean 0 and sd of 1\n",
    "low_range = saleprice_scaled[saleprice_scaled[:,0].argsort()][:10] # Argsort return an array index of sort values of first 10 values\n",
    "high_range = saleprice_scaled[saleprice_scaled[:, 0].argsort()][-10:] # Argsort return an array index of sort values of last 10 values\n",
    "print(low_range,'\\n')\n",
    "print(high_range,'\\n')"
   ]
  },
  {
   "cell_type": "markdown",
   "id": "6721434d",
   "metadata": {},
   "source": [
    "### 👉 Correlaciones!!!"
   ]
  },
  {
   "cell_type": "markdown",
   "id": "fd8e2a8e",
   "metadata": {},
   "source": [
    "##### 🔹Matriz de correlaciones"
   ]
  },
  {
   "cell_type": "code",
   "execution_count": null,
   "id": "5f295bd5",
   "metadata": {},
   "outputs": [],
   "source": [
    "# Method 1\n",
    "\n",
    "# import plotly.express as px\n",
    "fig = px.imshow(train.corr(), text_auto=True, aspect=\"auto\", color_continuous_scale=\"blackbody\")\n",
    "fig.show()\n",
    "\n",
    "# Method 2 using seaborn\n",
    "corrmat = df_train.corr()\n",
    "f, ax = plt.subplots(figsize=(12,9))\n",
    "sb.heatmap(corrmat, vmax=.8, square=True)\n",
    "\n",
    "# Method 3 using seaborn but limiting number of variables (Top 10 more correalted)\n",
    "k = 10 # Number of variables for heatmap\n",
    "cols = corrmat.nlargest(k, 'SalePrice')['SalePrice'].index # Sort correlations by highest value\n",
    "cm = np.corrcoef(df_train[cols].values.T) # Param must be transposed\n",
    "sb.set(font_scale=1.25) # Font size of graph variables\n",
    "hm = sb.heatmap(cm, cbar=True, annot=True, square=True, fmt='.2f', annot_kws={'size' : 12}, yticklabels=cols.values, xticklabels=cols.values)\n",
    "plt.show()\n",
    "\n"
   ]
  },
  {
   "cell_type": "markdown",
   "id": "3d7cf449",
   "metadata": {},
   "source": [
    "##### 🔹¿Quieres ver un scatter plot múltiple?"
   ]
  },
  {
   "cell_type": "code",
   "execution_count": null,
   "id": "8604bc58",
   "metadata": {},
   "outputs": [],
   "source": [
    "# scatterplot\n",
    "sb.set() # Apply default seaborn theme\n",
    "cols = ['SalePrice', 'OverallQual', 'GrLivArea', 'GarageCars', 'TotalBsmtSF', 'FullBath', 'YearBuilt']\n",
    "sb.pairplot(df_train[cols], size = 2.5)\n",
    "plt.show()"
   ]
  },
  {
   "cell_type": "markdown",
   "id": "2a1a390b",
   "metadata": {},
   "source": [
    "### 👉 Data preprocesing"
   ]
  },
  {
   "cell_type": "markdown",
   "id": "a6b017e8",
   "metadata": {},
   "source": [
    "### 👉 Modeling"
   ]
  },
  {
   "cell_type": "code",
   "execution_count": 3,
   "id": "e68bd5f8",
   "metadata": {},
   "outputs": [
    {
     "ename": "NameError",
     "evalue": "name 'df' is not defined",
     "output_type": "error",
     "traceback": [
      "\u001b[0;31m---------------------------------------------------------------------------\u001b[0m",
      "\u001b[0;31mNameError\u001b[0m                                 Traceback (most recent call last)",
      "\u001b[0;32m/tmp/ipykernel_3521/1121559065.py\u001b[0m in \u001b[0;36m<module>\u001b[0;34m\u001b[0m\n\u001b[1;32m      1\u001b[0m \u001b[0mTARGET\u001b[0m \u001b[0;34m=\u001b[0m \u001b[0;34m'status'\u001b[0m\u001b[0;34m\u001b[0m\u001b[0;34m\u001b[0m\u001b[0m\n\u001b[0;32m----> 2\u001b[0;31m \u001b[0mFEATURES\u001b[0m \u001b[0;34m=\u001b[0m \u001b[0;34m[\u001b[0m\u001b[0mcol\u001b[0m \u001b[0;32mfor\u001b[0m \u001b[0mcol\u001b[0m \u001b[0;32min\u001b[0m \u001b[0mdf\u001b[0m\u001b[0;34m.\u001b[0m\u001b[0mcolumns\u001b[0m \u001b[0;32mif\u001b[0m \u001b[0mcol\u001b[0m \u001b[0;34m!=\u001b[0m \u001b[0mTARGET\u001b[0m\u001b[0;34m]\u001b[0m\u001b[0;34m\u001b[0m\u001b[0;34m\u001b[0m\u001b[0m\n\u001b[0m\u001b[1;32m      3\u001b[0m \u001b[0mRANDOM_STATE\u001b[0m \u001b[0;34m=\u001b[0m \u001b[0;36m12\u001b[0m\u001b[0;34m\u001b[0m\u001b[0;34m\u001b[0m\u001b[0m\n\u001b[1;32m      4\u001b[0m \u001b[0;34m\u001b[0m\u001b[0m\n\u001b[1;32m      5\u001b[0m \u001b[0mX\u001b[0m \u001b[0;34m=\u001b[0m \u001b[0mdf\u001b[0m\u001b[0;34m.\u001b[0m\u001b[0mdrop\u001b[0m\u001b[0;34m(\u001b[0m\u001b[0mTARGET\u001b[0m\u001b[0;34m,\u001b[0m \u001b[0maxis\u001b[0m \u001b[0;34m=\u001b[0m \u001b[0;36m1\u001b[0m\u001b[0;34m)\u001b[0m\u001b[0;34m\u001b[0m\u001b[0;34m\u001b[0m\u001b[0m\n",
      "\u001b[0;31mNameError\u001b[0m: name 'df' is not defined"
     ]
    }
   ],
   "source": [
    "TARGET = 'status'\n",
    "FEATURES = [col for col in df.columns if col != TARGET]\n",
    "RANDOM_STATE = 12\n",
    "\n",
    "X = df.drop(TARGET, axis = 1)\n",
    "y = df[TARGET]\n",
    "\n",
    "X_train, X_test, y_train, y_test = train_test_split(X,\n",
    "                                                    y,\n",
    "                                                    random_state=12,\n",
    "                                                    test_size= 0.33)\n",
    "clf = LazyClassifier(verbose=0,\n",
    "                     ignore_warnings=True,\n",
    "                     custom_metric=None,\n",
    "                     predictions=False,\n",
    "                     random_state=12,\n",
    "                     classifiers='all')\n",
    "\n",
    "models, predictions = clf.fit(X_train, X_test, y_train, y_test)\n",
    "clear_output()\n",
    "\n"
   ]
  },
  {
   "cell_type": "code",
   "execution_count": null,
   "id": "866e85d6",
   "metadata": {},
   "outputs": [],
   "source": [
    "models[:15]"
   ]
  }
 ],
 "metadata": {
  "kernelspec": {
   "display_name": "Python 3 (ipykernel)",
   "language": "python",
   "name": "python3"
  },
  "language_info": {
   "codemirror_mode": {
    "name": "ipython",
    "version": 3
   },
   "file_extension": ".py",
   "mimetype": "text/x-python",
   "name": "python",
   "nbconvert_exporter": "python",
   "pygments_lexer": "ipython3",
   "version": "3.9.7"
  }
 },
 "nbformat": 4,
 "nbformat_minor": 5
}
