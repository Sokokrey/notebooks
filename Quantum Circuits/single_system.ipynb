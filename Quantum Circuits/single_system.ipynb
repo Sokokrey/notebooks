{
 "cells": [
  {
   "cell_type": "code",
   "execution_count": 2,
   "id": "5460c766",
   "metadata": {},
   "outputs": [
    {
     "name": "stdout",
     "output_type": "stream",
     "text": [
      "|0> : [1 0]\n",
      "|1> : [0 1]\n",
      "(|0> + |1>)/2: [0.5 0.5]\n"
     ]
    }
   ],
   "source": [
    "# Creating |0> and |1>\n",
    "import numpy as np\n",
    "\n",
    "ket0 = np.array([1,0])\n",
    "ket1 = np.array([0,1])\n",
    "\n",
    "print(\"|0> :\", ket0)\n",
    "print(\"|1> :\", ket1)\n",
    "\n",
    "print(\"(|0> + |1>)/2:\", ket0 / 2 + ket1 / 2)"
   ]
  },
  {
   "cell_type": "code",
   "execution_count": 3,
   "id": "e8820978",
   "metadata": {},
   "outputs": [
    {
     "name": "stdout",
     "output_type": "stream",
     "text": [
      "\\begin{bmatrix}\n",
      "  1.00 &  0.00\n",
      "\\end{bmatrix}\n"
     ]
    }
   ],
   "source": [
    "import array_to_latex as a2l\n",
    "\n",
    "latex = a2l.to_ltx(ket0)\n",
    "latex"
   ]
  },
  {
   "cell_type": "code",
   "execution_count": 14,
   "id": "901173ad",
   "metadata": {},
   "outputs": [],
   "source": [
    "from IPython.display import display, Math\n",
    "\n",
    "def print_matrix(array):\n",
    "    matrix = ''\n",
    "    for row in array:\n",
    "        try:\n",
    "            for number in row:\n",
    "                matrix += f'{number}&'\n",
    "        except TypeError:\n",
    "            matrix += f'{row}&'\n",
    "        matrix = matrix[:-1] + r'\\\\'\n",
    "    \n",
    "    display(Math(r'\\begin{bmatrix}'+matrix+r'\\end{bmatrix}'))"
   ]
  },
  {
   "cell_type": "code",
   "execution_count": 16,
   "id": "282ad260",
   "metadata": {},
   "outputs": [
    {
     "data": {
      "text/latex": [
       "$\\displaystyle \\begin{bmatrix}0\\\\1\\\\\\end{bmatrix}$"
      ],
      "text/plain": [
       "<IPython.core.display.Math object>"
      ]
     },
     "metadata": {},
     "output_type": "display_data"
    },
    {
     "name": "stdout",
     "output_type": "stream",
     "text": [
      "None\n"
     ]
    }
   ],
   "source": [
    "print(print_matrix(ket1))  "
   ]
  },
  {
   "cell_type": "markdown",
   "id": "4762bc89",
   "metadata": {},
   "source": [
    "### \n",
    "$$\\newcommand{\\ket}[1]{\\left|{#1}\\right\\rangle}$$\n",
    "$$\\newcommand{\\bra}[1]{\\left\\langle{#1}\\right|}$$\n",
    "$$\\newcommand{\\braket}[2]{\\left\\langle{#1}\\middle|{#2}\\right\\rangle}$$"
   ]
  },
  {
   "cell_type": "code",
   "execution_count": 27,
   "id": "2705e5e2",
   "metadata": {},
   "outputs": [],
   "source": [
    "import numpy as np\n",
    "\n",
    "INDENT_SPACES = 3\n",
    "\n",
    "def indent(num_indent=1):\n",
    "    #Number of indentation spaces\n",
    "    return num_indent * INDENT_SPACES * ' '\n",
    "\n",
    "def matrix2latex(matrix, display_style=True):\n",
    "    #Convert numpy array to latex code as a matrix\n",
    "    style = \"\"\n",
    "    if display_style:\n",
    "        style = r\"\\displaystyle\" + \"\\n\"\n",
    "        left_latex = style + indent() + r\"\\left(\" + \"\\n\" + indent(2) + r\"\\begin{array}\"\n",
    "        right_latex = indent(2) + r\"\\end{array}\" + \"\\n\" + indent() + r\"\\right)\"\n",
    "        m_cols = matrix.shape[1]\n",
    "        array_cols = \"{\" + \"r \"* m_cols + \"}\\n\"\n",
    "        elements_latex = \"\"\n",
    "    for row in matrix:\n",
    "        elements_latex = elements_latex + indent(3) + \"& \".join([str(x) for x in row]) + r\" \\\\ \"+ \"\\n\"\n",
    "        latex = left_latex + array_cols + elements_latex + right_latex\n",
    "    return f\"$\\n{latex}\\n$\"\n",
    "\n",
    "def det2latex(matrix, display_style=True):\n",
    "    #Convert numpy array to latex code as a determinant\n",
    "    style = \"\"\n",
    "    if display_style:\n",
    "        style = r\"\\displaystyle\"\n",
    "    left_latex = style + indent() + \"\\n\" + indent() + r\"\\begin{vmatrix}\" + \"\\n\"\n",
    "    right_latex = indent() + r\"\\end{vmatrix}\"\n",
    "    m_cols = matrix.shape[1]\n",
    "    elements_latex = \"\"\n",
    "    for row in matrix:\n",
    "        elements_latex = elements_latex + indent(2) + \" & \".join([str(x) for x in row]) + r\" \\\\ \" + \"\\n\"\n",
    "        latex = left_latex + elements_latex + right_latex\n",
    "    return f\"$\\n{latex}\\n$\""
   ]
  },
  {
   "cell_type": "code",
   "execution_count": 33,
   "id": "5b7a8a14",
   "metadata": {},
   "outputs": [
    {
     "data": {
      "text/latex": [
       "$\\displaystyle I_4$ = $\n",
       "\\displaystyle\n",
       "   \\left(\n",
       "      \\begin{array}{r r r r }\n",
       "         1& 0& 0& 0 \\\\ \n",
       "         0& 1& 0& 0 \\\\ \n",
       "         0& 0& 1& 0 \\\\ \n",
       "         0& 0& 0& 1 \\\\ \n",
       "      \\end{array}\n",
       "   \\right)\n",
       "$"
      ],
      "text/plain": [
       "<IPython.core.display.Math object>"
      ]
     },
     "execution_count": 33,
     "metadata": {},
     "output_type": "execute_result"
    }
   ],
   "source": [
    "from IPython.display import Math\n",
    "# Identity 4x4 matrix\n",
    "identity_4 = np.eye(4, dtype=int)\n",
    "Math(r\"$I_4$ = \" + f\"{matrix2latex(identity_4)}\")"
   ]
  },
  {
   "cell_type": "code",
   "execution_count": 41,
   "id": "8a7d1f1b",
   "metadata": {},
   "outputs": [
    {
     "ename": "SyntaxError",
     "evalue": "f-string expression part cannot include a backslash (1880822545.py, line 4)",
     "output_type": "error",
     "traceback": [
      "\u001b[0;36m  Cell \u001b[0;32mIn[41], line 4\u001b[0;36m\u001b[0m\n\u001b[0;31m    display(Latex(rf'$\\begin\\{bmatrix\\} 1.00 &  0.00 \\end\\{bmatrix\\}'))\u001b[0m\n\u001b[0m                                                                     ^\u001b[0m\n\u001b[0;31mSyntaxError\u001b[0m\u001b[0;31m:\u001b[0m f-string expression part cannot include a backslash\n"
     ]
    }
   ],
   "source": [
    "from IPython.display import display, Latex\n",
    "\n",
    "\n",
    "display(Latex(rf'$\\begin'{bmatrix} 1.00 &  0.00 \\end{bmatrix}'))"
   ]
  },
  {
   "cell_type": "markdown",
   "id": "f641c56a",
   "metadata": {},
   "source": [
    "$\\ket{0}$"
   ]
  },
  {
   "cell_type": "code",
   "execution_count": 4,
   "id": "3326de05",
   "metadata": {},
   "outputs": [
    {
     "name": "stdout",
     "output_type": "stream",
     "text": [
      "M1 : [[1 1]\n",
      " [0 0]]\n",
      "M2 : [[1 1]\n",
      " [1 0]]\n"
     ]
    },
    {
     "data": {
      "text/plain": [
       "array([[1. , 1. ],\n",
       "       [0.5, 0. ]])"
      ]
     },
     "execution_count": 4,
     "metadata": {},
     "output_type": "execute_result"
    }
   ],
   "source": [
    "#Creating operations\n",
    "M1 = np.array([[1,1], [0,0]])\n",
    "M2 = np.array([[1,1], [1,0]])\n",
    "\n",
    "print(\"M1 :\", M1)\n",
    "print(\"M2 :\", M2)\n",
    "\n",
    "M1 / 2 + M2 / 2"
   ]
  },
  {
   "cell_type": "code",
   "execution_count": 10,
   "id": "5701eccb",
   "metadata": {},
   "outputs": [
    {
     "name": "stdout",
     "output_type": "stream",
     "text": [
      "[1 0]\n",
      "[[2 1]\n",
      " [0 0]]\n",
      "[[1 1]\n",
      " [1 1]]\n"
     ]
    }
   ],
   "source": [
    "#Matrix multiplication\n",
    "print(np.matmul(M1, ket1))\n",
    "print(np.matmul(M1, M2))\n",
    "print(np.matmul(M2, M1))"
   ]
  },
  {
   "cell_type": "code",
   "execution_count": 13,
   "id": "f8718b39",
   "metadata": {},
   "outputs": [
    {
     "name": "stdout",
     "output_type": "stream",
     "text": [
      "Created succesfully\n"
     ]
    }
   ],
   "source": [
    "#Defining state vector\n",
    "import qiskit\n",
    "from qiskit.quantum_info import Statevector\n",
    "\n",
    "u = Statevector([1 / np.sqrt(2), 1 / np.sqrt(2)])\n",
    "v = Statevector([(1 + 2.0j) / 3, -2 / 3])\n",
    "w = Statevector([1 / 3, 2 / 3])\n",
    "\n",
    "print(\"Created succesfully\")"
   ]
  },
  {
   "cell_type": "code",
   "execution_count": 21,
   "id": "e825b939",
   "metadata": {},
   "outputs": [
    {
     "data": {
      "text/latex": [
       "$$\\frac{\\sqrt{2}}{2} |0\\rangle+\\frac{\\sqrt{2}}{2} |1\\rangle$$"
      ],
      "text/plain": [
       "<IPython.core.display.Latex object>"
      ]
     },
     "metadata": {},
     "output_type": "display_data"
    },
    {
     "data": {
      "text/plain": [
       "[0.70710678+0.j,0.70710678+0.j]"
      ]
     },
     "metadata": {},
     "output_type": "display_data"
    }
   ],
   "source": [
    "#Displaying state vectors\n",
    "display(u.draw(\"latex\"))\n",
    "display(u.draw(\"text\"))"
   ]
  },
  {
   "cell_type": "code",
   "execution_count": 23,
   "id": "5260d946",
   "metadata": {},
   "outputs": [
    {
     "data": {
      "text/plain": [
       "True"
      ]
     },
     "metadata": {},
     "output_type": "display_data"
    },
    {
     "data": {
      "text/plain": [
       "False"
      ]
     },
     "metadata": {},
     "output_type": "display_data"
    }
   ],
   "source": [
    "#Checking if the vector is valid\n",
    "display(u.is_valid())\n",
    "display(w.is_valid())"
   ]
  },
  {
   "cell_type": "code",
   "execution_count": 43,
   "id": "35bc668e",
   "metadata": {},
   "outputs": [
    {
     "data": {
      "text/latex": [
       "$$(\\frac{1}{3} + \\frac{2 i}{3}) |0\\rangle- \\frac{2}{3} |1\\rangle$$"
      ],
      "text/plain": [
       "<IPython.core.display.Latex object>"
      ]
     },
     "metadata": {},
     "output_type": "display_data"
    },
    {
     "name": "stdout",
     "output_type": "stream",
     "text": [
      "None\n"
     ]
    },
    {
     "data": {
      "text/plain": [
       "('1',\n",
       " Statevector([ 0.+0.j, -1.+0.j],\n",
       "             dims=(2,)))"
      ]
     },
     "execution_count": 43,
     "metadata": {},
     "output_type": "execute_result"
    }
   ],
   "source": [
    "#Simulating measurements\n",
    "v = Statevector([(1 + 2.0j) / 3, -2 / 3])\n",
    "print(display(v.draw(\"latex\")))\n",
    "v.measure()"
   ]
  },
  {
   "cell_type": "code",
   "execution_count": 46,
   "id": "05f9919d",
   "metadata": {},
   "outputs": [
    {
     "data": {
      "text/plain": [
       "{'0': 539, '1': 461}"
      ]
     },
     "metadata": {},
     "output_type": "display_data"
    },
    {
     "data": {
      "image/png": "[encoded data removed]",
      "text/plain": [
       "<Figure size 700x500 with 1 Axes>"
      ]
     },
     "execution_count": 46,
     "metadata": {},
     "output_type": "execute_result"
    }
   ],
   "source": [
    "#Simulation of measurements on the system\n",
    "from qiskit.visualization import plot_histogram\n",
    "\n",
    "statistics = v.sample_counts(1000)\n",
    "display(statistics)\n",
    "plot_histogram(statistics)"
   ]
  },
  {
   "cell_type": "code",
   "execution_count": 50,
   "id": "2c04714c",
   "metadata": {},
   "outputs": [
    {
     "data": {
      "text/plain": [
       "[ 0.85355339+0.35355339j,-0.35355339+0.14644661j]"
      ]
     },
     "execution_count": 50,
     "metadata": {},
     "output_type": "execute_result"
    }
   ],
   "source": [
    "#Unitary operations\n",
    "\n",
    "from qiskit.quantum_info import Operator\n",
    "\n",
    "X = Operator([[0, 1], [1, 0]])\n",
    "Y = Operator([[0, -1.0j], [1.0j, 0]])\n",
    "Z = Operator([[1, 0], [0, -1]])\n",
    "H = Operator([[1 / np.sqrt(2), 1 / np.sqrt(2)], [1 / np.sqrt(2), -1 / np.sqrt(2)]])\n",
    "S = Operator([[1, 0], [0, 1.0j]])\n",
    "T = Operator([[1, 0], [0, (1 + 1.0j) / np.sqrt(2)]])\n",
    "\n",
    "v = Statevector([1, 0])\n",
    "\n",
    "v = v.evolve(H)\n",
    "v = v.evolve(T)\n",
    "v = v.evolve(H)\n",
    "v = v.evolve(T)\n",
    "v = v.evolve(Z)\n",
    "\n",
    "v.draw(\"text\")"
   ]
  },
  {
   "cell_type": "code",
   "execution_count": 59,
   "id": "1573b207",
   "metadata": {},
   "outputs": [
    {
     "data": {
      "text/html": [
       "<pre style=\"word-wrap: normal;white-space: pre;background: #fff0;line-height: 1.1;font-family: &quot;Courier New&quot;,Courier,monospace\">   ┌───┐┌───┐┌───┐┌───┐┌───┐\n",
       "q: ┤ H ├┤ T ├┤ H ├┤ T ├┤ Z ├\n",
       "   └───┘└───┘└───┘└───┘└───┘</pre>"
      ],
      "text/plain": [
       "   ┌───┐┌───┐┌───┐┌───┐┌───┐\n",
       "q: ┤ H ├┤ T ├┤ H ├┤ T ├┤ Z ├\n",
       "   └───┘└───┘└───┘└───┘└───┘"
      ]
     },
     "execution_count": 59,
     "metadata": {},
     "output_type": "execute_result"
    }
   ],
   "source": [
    "# Quantum Circuits\n",
    "from qiskit import QuantumCircuit\n",
    "\n",
    "circuit = QuantumCircuit(1)\n",
    "\n",
    "circuit.h(0)\n",
    "circuit.t(0)\n",
    "circuit.h(0)\n",
    "circuit.t(0)\n",
    "circuit.z(0)\n",
    "\n",
    "circuit.draw()"
   ]
  },
  {
   "cell_type": "code",
   "execution_count": 60,
   "id": "51c064ee",
   "metadata": {},
   "outputs": [
    {
     "data": {
      "text/plain": [
       "[ 0.85355339+0.35355339j,-0.35355339+0.14644661j]"
      ]
     },
     "execution_count": 60,
     "metadata": {},
     "output_type": "execute_result"
    }
   ],
   "source": [
    "#Evolving quantum state vectors according to a sequence of operations\n",
    "\n",
    "ket0 = Statevector([1,0])\n",
    "v = ket0.evolve(circuit)\n",
    "v.draw(\"text\")"
   ]
  },
  {
   "cell_type": "code",
   "execution_count": 61,
   "id": "9de6328a",
   "metadata": {},
   "outputs": [
    {
     "data": {
      "image/png": "[encoded data removed]",
      "text/plain": [
       "<Figure size 700x500 with 1 Axes>"
      ]
     },
     "execution_count": 61,
     "metadata": {},
     "output_type": "execute_result"
    }
   ],
   "source": [
    "#Simulating the result running this expreiment 4000 times\n",
    "statistics = v.sample_counts(4000)\n",
    "plot_histogram(statistics)"
   ]
  }
 ],
 "metadata": {
  "kernelspec": {
   "display_name": "Python 3 (ipykernel)",
   "language": "python",
   "name": "python3"
  },
  "language_info": {
   "codemirror_mode": {
    "name": "ipython",
    "version": 3
   },
   "file_extension": ".py",
   "mimetype": "text/x-python",
   "name": "python",
   "nbconvert_exporter": "python",
   "pygments_lexer": "ipython3",
   "version": "3.9.7"
  }
 },
 "nbformat": 4,
 "nbformat_minor": 5
}
